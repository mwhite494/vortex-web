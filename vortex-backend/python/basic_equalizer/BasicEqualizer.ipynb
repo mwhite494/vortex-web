{
 "cells": [
  {
   "cell_type": "code",
   "execution_count": 1,
   "id": "1d95b5dd",
   "metadata": {},
   "outputs": [],
   "source": [
    "#Imports\n",
    "import sys\n",
    "import librosa\n",
    "import numpy as np\n",
    "import json"
   ]
  },
  {
   "cell_type": "code",
   "execution_count": 36,
   "id": "db653b1a",
   "metadata": {},
   "outputs": [],
   "source": [
    "# Equalization without any standardization\n",
    "# def normalize(data, A=0, B=100):\n",
    "#     data_min = np.min(data)\n",
    "#     data_max = np.max(data)\n",
    "#     return A + ((data - data_min) * (B - A)) / (data_max - data_min)\n",
    "\n",
    "# def generate_visualization_data(audio_path, output_path):\n",
    "#     y, sr = librosa.load(audio_path, sr=None, mono=True)\n",
    "#     n_fft = 2048\n",
    "#     hop_length = 512\n",
    "\n",
    "#     peak_frequencies = [63, 160, 400, 1000, 2500, 6250, 16000]\n",
    "\n",
    "#     spectrogram = np.abs(librosa.stft(y, n_fft=n_fft, hop_length=hop_length))\n",
    "#     freqs = librosa.fft_frequencies(sr=sr, n_fft=n_fft)\n",
    "\n",
    "#     band_data = []\n",
    "#     for peak_freq in peak_frequencies:\n",
    "#         index = np.argmin(np.abs(freqs - peak_freq))\n",
    "#         band_data.append(spectrogram[index])\n",
    "\n",
    "#     band_data = np.stack(band_data)\n",
    "#     band_data = normalize(band_data)  # Normalize the band data\n",
    "    \n",
    "#     np.save(output_path, band_data)\n",
    "#     return band_data\n",
    "\n",
    "\n",
    "# Uncomment if running this code as an independent script ( see usage below )\n",
    "# if __name__ == '__main__':\n",
    "#     if len(sys.argv) != 3:\n",
    "#         print('Usage: python generate_visualization_data.py <input_audio_path> <output_data_path>')\n",
    "#     else:\n",
    "#         audio_path = sys.argv[1]\n",
    "#         output_path = sys.argv[2]\n",
    "#         generate_visualization_data(audio_path, output_path)\n"
   ]
  },
  {
   "cell_type": "code",
   "execution_count": 2,
   "id": "9afe8d4e",
   "metadata": {},
   "outputs": [],
   "source": [
    "# Standardization using LUFS (Loudness Units relative to Full Scale)\n",
    "from pyloudnorm import Meter\n",
    "\n",
    "def generate_visualization_data_to_npy(audio_path, output_path, reference_lufs=-14):\n",
    "    y, sr = librosa.load(audio_path, sr=None, mono=True)\n",
    "    \n",
    "    # Calculate LUFS\n",
    "    meter = Meter(sr)  # create meter\n",
    "    lufs = meter.integrated_loudness(y)\n",
    "\n",
    "    # Apply gain adjustment\n",
    "    gain_adjustment = 10 ** ((reference_lufs - lufs) / 20)\n",
    "    y = y * gain_adjustment\n",
    "\n",
    "    n_fft = 2048\n",
    "    hop_length = 512\n",
    "\n",
    "    peak_frequencies = [63, 160, 400, 1000, 2500, 6250]\n",
    "\n",
    "    spectrogram = np.abs(librosa.stft(y, n_fft=n_fft, hop_length=hop_length))\n",
    "    freqs = librosa.fft_frequencies(sr=sr, n_fft=n_fft)\n",
    "\n",
    "    band_data = []\n",
    "    for peak_freq in peak_frequencies:\n",
    "        index = np.argmin(np.abs(freqs - peak_freq))\n",
    "        band_data.append(spectrogram[index])\n",
    "\n",
    "    # Normalize to 0-100 range\n",
    "    max_val = np.max(band_data)\n",
    "    band_data_normalized = (band_data / max_val) * 100\n",
    "\n",
    "    np.save(output_path, band_data_normalized)\n",
    "    return band_data_normalized\n"
   ]
  },
  {
   "cell_type": "code",
   "execution_count": 7,
   "id": "0643ba14",
   "metadata": {},
   "outputs": [],
   "source": [
    "song_filepath = \"./songs/droeloe_panorama.wav\"\n",
    "output_filepath = \"./data/droeloe_panorama_data_lufs_standardization.json\"\n",
    "song_data = generate_visualization_data_to_npy(song_filepath, output_filepath)"
   ]
  },
  {
   "cell_type": "code",
   "execution_count": 3,
   "id": "2552565f",
   "metadata": {},
   "outputs": [],
   "source": [
    "def generate_visualization_data_to_json(audio_path, output_path, reference_lufs=-14):\n",
    "    y, sr = librosa.load(audio_path, sr=None, mono=True)\n",
    "    \n",
    "    # Calculate LUFS\n",
    "    meter = Meter(sr)  # create meter\n",
    "    lufs = meter.integrated_loudness(y)\n",
    "\n",
    "    # Apply gain adjustment\n",
    "    gain_adjustment = 10 ** ((reference_lufs - lufs) / 20)\n",
    "    y = y * gain_adjustment\n",
    "\n",
    "    n_fft = 2048\n",
    "    hop_length = 512\n",
    "\n",
    "    peak_frequencies = [63, 160, 400, 1000, 2500, 6250, 16000]\n",
    "\n",
    "    spectrogram = np.abs(librosa.stft(y, n_fft=n_fft, hop_length=hop_length))\n",
    "    freqs = librosa.fft_frequencies(sr=sr, n_fft=n_fft)\n",
    "\n",
    "    band_data = []\n",
    "    for peak_freq in peak_frequencies:\n",
    "        index = np.argmin(np.abs(freqs - peak_freq))\n",
    "        band_data.append(spectrogram[index].tolist())  # Converting numpy array to list\n",
    "\n",
    "    # Normalize to 0-100 range\n",
    "    max_val = np.max(band_data)\n",
    "    band_data_normalized = [[val / max_val * 100 for val in band] for band in band_data]\n",
    "\n",
    "    # Save as JSON\n",
    "    with open(output_path, 'w') as json_file:\n",
    "        json.dump(band_data_normalized, json_file)\n",
    "        \n",
    "    return band_data_normalized\n"
   ]
  },
  {
   "cell_type": "code",
   "execution_count": 15,
   "id": "9c98a3cd",
   "metadata": {},
   "outputs": [],
   "source": [
    "song_filepath = \"./songs/droeloe_panorama.wav\"\n",
    "output_filepath = \"./data/droeloe_panorama_data_lufs_standardization.json\"\n",
    "song_data_json = generate_visualization_data_to_json(song_filepath, output_filepath)"
   ]
  },
  {
   "cell_type": "code",
   "execution_count": 19,
   "id": "9cdc4184",
   "metadata": {},
   "outputs": [],
   "source": [
    "song_filepath = \"./songs/droeloe_sunburn.wav\"\n",
    "output_filepath = \"./data/droeloe_sunburn_data_lufs_standardization.json\"\n",
    "song_data_json = generate_visualization_data_to_json(song_filepath, output_filepath)"
   ]
  },
  {
   "cell_type": "code",
   "execution_count": 4,
   "id": "202d6be8",
   "metadata": {},
   "outputs": [],
   "source": [
    "song_filepath = \"./songs/DROELOE_Statues.wav\"\n",
    "output_filepath = \"./data/DROELOE_Statues_data_lufs_standardization.json\"\n",
    "song_data_json = generate_visualization_data_to_json(song_filepath, output_filepath)"
   ]
  },
  {
   "cell_type": "code",
   "execution_count": 5,
   "id": "9e2b3981",
   "metadata": {},
   "outputs": [],
   "source": [
    "song_filepath = \"./songs/MELVV_Blank.wav\"\n",
    "output_filepath = \"./data/MELVV_Blank_data_lufs_standardization.json\"\n",
    "song_data_json = generate_visualization_data_to_json(song_filepath, output_filepath)"
   ]
  },
  {
   "cell_type": "code",
   "execution_count": 8,
   "id": "6b365553",
   "metadata": {},
   "outputs": [
    {
     "name": "stdout",
     "output_type": "stream",
     "text": [
      "[[1.8872900e-04 1.1352581e-04 5.6602516e-05 ... 6.6412557e-03\n",
      "  1.1278910e-04 9.3474788e-05]\n",
      " [1.2876425e-04 6.8364810e-05 1.6411139e-05 ... 7.4288307e-04\n",
      "  1.7967897e-04 2.0184548e-04]\n",
      " [2.4217181e-05 2.9594767e-05 5.1025705e-05 ... 2.9056570e-03\n",
      "  4.0422023e-05 3.9710219e-05]\n",
      " [7.1141917e-06 4.8104328e-05 6.9273912e-05 ... 7.8737451e-04\n",
      "  6.2999206e-05 5.9721027e-05]\n",
      " [4.5149056e-05 9.8356897e-05 4.0167382e-05 ... 1.1009362e-04\n",
      "  8.5383572e-06 5.0994954e-06]\n",
      " [3.7977522e-06 2.4378067e-05 3.9630060e-05 ... 2.7319074e-06\n",
      "  2.4783772e-05 1.0175625e-05]]\n",
      "(6, 19785)\n"
     ]
    }
   ],
   "source": [
    "print(song_data)\n",
    "print(song_data.shape)"
   ]
  },
  {
   "cell_type": "code",
   "execution_count": 9,
   "id": "44c45a4f",
   "metadata": {},
   "outputs": [
    {
     "name": "stdout",
     "output_type": "stream",
     "text": [
      "[2.393634   3.4370944  1.9616172  0.398194   0.02805529 0.05049457]\n",
      "1.056107e-06\n",
      "100.0\n"
     ]
    }
   ],
   "source": [
    "print(song_data[:, 10000])\n",
    "print(song_data.min())\n",
    "print(song_data.max())"
   ]
  },
  {
   "cell_type": "code",
   "execution_count": null,
   "id": "e00e253e",
   "metadata": {},
   "outputs": [],
   "source": []
  }
 ],
 "metadata": {
  "kernelspec": {
   "display_name": "Python 3 (ipykernel)",
   "language": "python",
   "name": "python3"
  },
  "language_info": {
   "codemirror_mode": {
    "name": "ipython",
    "version": 3
   },
   "file_extension": ".py",
   "mimetype": "text/x-python",
   "name": "python",
   "nbconvert_exporter": "python",
   "pygments_lexer": "ipython3",
   "version": "3.10.9"
  }
 },
 "nbformat": 4,
 "nbformat_minor": 5
}
