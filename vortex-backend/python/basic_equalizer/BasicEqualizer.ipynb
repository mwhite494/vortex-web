{
 "cells": [
  {
   "cell_type": "code",
   "execution_count": 5,
   "id": "1d95b5dd",
   "metadata": {},
   "outputs": [],
   "source": [
    "#Imports\n",
    "import sys\n",
    "import librosa\n",
    "import numpy as np\n",
    "import json\n",
    "from pyloudnorm import Meter"
   ]
  },
  {
   "cell_type": "code",
   "execution_count": 26,
   "id": "2552565f",
   "metadata": {},
   "outputs": [],
   "source": [
    "def generate_visualization_data_to_json(audio_path, output_path, reference_lufs=-14):\n",
    "    y, sr = librosa.load(audio_path, sr=None, mono=True)\n",
    "    \n",
    "    # Calculate LUFS\n",
    "    meter = Meter(sr)  # create meter\n",
    "    lufs = meter.integrated_loudness(y)\n",
    "\n",
    "    # Apply gain adjustment\n",
    "    gain_adjustment = 10 ** ((reference_lufs - lufs) / 20)\n",
    "    y = y * gain_adjustment\n",
    "\n",
    "    n_fft = 2048\n",
    "    hop_length = 512\n",
    "\n",
    "    peak_frequencies = [63, 160, 400, 1000, 2500, 6250]\n",
    "\n",
    "    spectrogram = np.abs(librosa.stft(y, n_fft=n_fft, hop_length=hop_length))\n",
    "    freqs = librosa.fft_frequencies(sr=sr, n_fft=n_fft)\n",
    "\n",
    "    # Determine the max value across the entire audio for normalization\n",
    "    max_val = np.max(spectrogram)\n",
    "\n",
    "    # Prepare visualization data array\n",
    "    time_series_band_data = []\n",
    "\n",
    "    # Iterate over each time slice\n",
    "    for time_index in range(spectrogram.shape[1]):\n",
    "        moment_band_data = []\n",
    "        for peak_freq in peak_frequencies:\n",
    "            index = np.argmin(np.abs(freqs - peak_freq))\n",
    "            # Normalize each band value based on the max value across the entire file\n",
    "            normalized_value = (spectrogram[index, time_index] / max_val) * 100\n",
    "            moment_band_data.append(normalized_value)\n",
    "        \n",
    "        time_series_band_data.append(moment_band_data)\n",
    "\n",
    "    visualization_data = {\"visualization_data\": time_series_band_data}\n",
    "        \n",
    "    # Save as JSON\n",
    "    with open(output_path, 'w') as json_file:\n",
    "        json.dump(visualization_data, json_file)\n",
    "        \n",
    "    return np.array(time_series_band_data)\n"
   ]
  },
  {
   "cell_type": "code",
   "execution_count": 31,
   "id": "9c98a3cd",
   "metadata": {},
   "outputs": [],
   "source": [
    "song_filepath = \"./songs/droeloe_panorama.wav\"\n",
    "output_filepath = \"./data/droeloe_panorama_data_lufs_standardization.json\"\n",
    "song_data = generate_visualization_data_to_json(song_filepath, output_filepath)"
   ]
  },
  {
   "cell_type": "code",
   "execution_count": 28,
   "id": "9cdc4184",
   "metadata": {},
   "outputs": [],
   "source": [
    "song_filepath = \"./songs/droeloe_sunburn.wav\"\n",
    "output_filepath = \"./data/droeloe_sunburn_data_lufs_standardization.json\"\n",
    "song_data = generate_visualization_data_to_json(song_filepath, output_filepath)"
   ]
  },
  {
   "cell_type": "code",
   "execution_count": 29,
   "id": "202d6be8",
   "metadata": {},
   "outputs": [],
   "source": [
    "song_filepath = \"./songs/DROELOE_Statues.wav\"\n",
    "output_filepath = \"./data/DROELOE_Statues_data_lufs_standardization.json\"\n",
    "song_data = generate_visualization_data_to_json(song_filepath, output_filepath)"
   ]
  },
  {
   "cell_type": "code",
   "execution_count": 30,
   "id": "9e2b3981",
   "metadata": {},
   "outputs": [],
   "source": [
    "song_filepath = \"./songs/MELVV_Blank.wav\"\n",
    "output_filepath = \"./data/MELVV_Blank_data_lufs_standardization.json\"\n",
    "song_data = generate_visualization_data_to_json(song_filepath, output_filepath)"
   ]
  },
  {
   "cell_type": "code",
   "execution_count": 32,
   "id": "e00e253e",
   "metadata": {},
   "outputs": [
    {
     "name": "stdout",
     "output_type": "stream",
     "text": [
      "[[1.88728995e-04 1.28764248e-04 2.42171808e-05 7.11419190e-06\n",
      "  4.51490564e-05 3.79775216e-06]\n",
      " [1.13525812e-04 6.83648125e-05 2.95947672e-05 4.81043287e-05\n",
      "  9.83568953e-05 2.43780676e-05]\n",
      " [5.66025165e-05 1.64111384e-05 5.10257053e-05 6.92739150e-05\n",
      "  4.01673816e-05 3.96300607e-05]\n",
      " ...\n",
      " [6.64125546e-03 7.42883049e-04 2.90565713e-03 7.87374483e-04\n",
      "  1.10093617e-04 2.73190750e-06]\n",
      " [1.12789098e-04 1.79678966e-04 4.04220231e-05 6.29992030e-05\n",
      "  8.53835758e-06 2.47837733e-05]\n",
      " [9.34747902e-05 2.01845478e-04 3.97102184e-05 5.97210260e-05\n",
      "  5.09949523e-06 1.01756250e-05]]\n",
      "(19785, 6)\n"
     ]
    }
   ],
   "source": [
    "print(song_data)\n",
    "print(song_data.shape)"
   ]
  },
  {
   "cell_type": "code",
   "execution_count": 33,
   "id": "3c1bb346",
   "metadata": {},
   "outputs": [
    {
     "name": "stdout",
     "output_type": "stream",
     "text": [
      "[2.39363406 3.43709439 1.96161717 0.398194   0.02805529 0.05049458]\n",
      "1.0561069352377217e-06\n",
      "100.0\n"
     ]
    }
   ],
   "source": [
    "print(song_data[10000])\n",
    "print(song_data.min())\n",
    "print(song_data.max())"
   ]
  },
  {
   "cell_type": "code",
   "execution_count": null,
   "id": "217e1c52",
   "metadata": {},
   "outputs": [],
   "source": []
  }
 ],
 "metadata": {
  "kernelspec": {
   "display_name": "Python 3 (ipykernel)",
   "language": "python",
   "name": "python3"
  },
  "language_info": {
   "codemirror_mode": {
    "name": "ipython",
    "version": 3
   },
   "file_extension": ".py",
   "mimetype": "text/x-python",
   "name": "python",
   "nbconvert_exporter": "python",
   "pygments_lexer": "ipython3",
   "version": "3.10.9"
  }
 },
 "nbformat": 4,
 "nbformat_minor": 5
}
