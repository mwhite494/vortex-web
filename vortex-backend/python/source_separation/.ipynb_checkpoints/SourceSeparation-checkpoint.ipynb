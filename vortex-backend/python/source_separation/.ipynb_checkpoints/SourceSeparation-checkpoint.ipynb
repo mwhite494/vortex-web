{
 "cells": [
  {
   "cell_type": "code",
   "execution_count": 3,
   "id": "b5b4b88a",
   "metadata": {},
   "outputs": [
    {
     "ename": "ModuleNotFoundError",
     "evalue": "No module named 'moviepy'",
     "output_type": "error",
     "traceback": [
      "\u001b[0;31m---------------------------------------------------------------------------\u001b[0m",
      "\u001b[0;31mModuleNotFoundError\u001b[0m                       Traceback (most recent call last)",
      "Cell \u001b[0;32mIn[3], line 6\u001b[0m\n\u001b[1;32m      4\u001b[0m \u001b[38;5;28;01mimport\u001b[39;00m \u001b[38;5;21;01mos\u001b[39;00m\n\u001b[1;32m      5\u001b[0m \u001b[38;5;66;03m#import pytube\u001b[39;00m\n\u001b[0;32m----> 6\u001b[0m \u001b[38;5;28;01mfrom\u001b[39;00m \u001b[38;5;21;01mmoviepy\u001b[39;00m\u001b[38;5;21;01m.\u001b[39;00m\u001b[38;5;21;01mvideo\u001b[39;00m\u001b[38;5;21;01m.\u001b[39;00m\u001b[38;5;21;01mio\u001b[39;00m\u001b[38;5;21;01m.\u001b[39;00m\u001b[38;5;21;01mVideoFileClip\u001b[39;00m \u001b[38;5;28;01mimport\u001b[39;00m VideoFileClip\n",
      "\u001b[0;31mModuleNotFoundError\u001b[0m: No module named 'moviepy'"
     ]
    }
   ],
   "source": [
    "import requests\n",
    "import numpy as np\n",
    "import librosa\n",
    "import os\n",
    "import pytube\n",
    "from moviepy.video.io.VideoFileClip import VideoFileClip"
   ]
  },
  {
   "cell_type": "code",
   "execution_count": 1,
   "id": "fb6d6edf",
   "metadata": {},
   "outputs": [],
   "source": [
    "def download_youtube_audio(url, output_path):\n",
    "    # Download the video as an MP4 file\n",
    "    youtube = pytube.YouTube(url)\n",
    "    video = youtube.streams.filter(only_audio=True).first().download()\n",
    "\n",
    "    # Convert the MP4 file to an MP3 file\n",
    "    mp4_file = VideoFileClip(video)\n",
    "    mp4_file.audio.write_audiofile(output_path)\n",
    "    mp4_file.close()\n",
    "    os.remove(video)\n",
    "\n",
    "    print(f\"Downloaded and converted audio to {output_path}\")"
   ]
  },
  {
   "cell_type": "code",
   "execution_count": 2,
   "id": "fe36ac9d",
   "metadata": {},
   "outputs": [
    {
     "ename": "NameError",
     "evalue": "name 'pytube' is not defined",
     "output_type": "error",
     "traceback": [
      "\u001b[0;31m---------------------------------------------------------------------------\u001b[0m",
      "\u001b[0;31mNameError\u001b[0m                                 Traceback (most recent call last)",
      "Cell \u001b[0;32mIn[2], line 1\u001b[0m\n\u001b[0;32m----> 1\u001b[0m \u001b[43mdownload_youtube_audio\u001b[49m\u001b[43m(\u001b[49m\u001b[38;5;124;43m'\u001b[39;49m\u001b[38;5;124;43mhttps://www.youtube.com/watch?v=U41bONK2V-U\u001b[39;49m\u001b[38;5;124;43m'\u001b[39;49m\u001b[43m,\u001b[49m\u001b[43m \u001b[49m\u001b[38;5;124;43m'\u001b[39;49m\u001b[38;5;124;43m/Users/marcowhite/Documents/vortex/source_separation.mp3\u001b[39;49m\u001b[38;5;124;43m'\u001b[39;49m\u001b[43m)\u001b[49m\n",
      "Cell \u001b[0;32mIn[1], line 3\u001b[0m, in \u001b[0;36mdownload_youtube_audio\u001b[0;34m(url, output_path)\u001b[0m\n\u001b[1;32m      1\u001b[0m \u001b[38;5;28;01mdef\u001b[39;00m \u001b[38;5;21mdownload_youtube_audio\u001b[39m(url, output_path):\n\u001b[1;32m      2\u001b[0m     \u001b[38;5;66;03m# Download the video as an MP4 file\u001b[39;00m\n\u001b[0;32m----> 3\u001b[0m     youtube \u001b[38;5;241m=\u001b[39m \u001b[43mpytube\u001b[49m\u001b[38;5;241m.\u001b[39mYouTube(url)\n\u001b[1;32m      4\u001b[0m     video \u001b[38;5;241m=\u001b[39m youtube\u001b[38;5;241m.\u001b[39mstreams\u001b[38;5;241m.\u001b[39mfilter(only_audio\u001b[38;5;241m=\u001b[39m\u001b[38;5;28;01mTrue\u001b[39;00m)\u001b[38;5;241m.\u001b[39mfirst()\u001b[38;5;241m.\u001b[39mdownload()\n\u001b[1;32m      6\u001b[0m     \u001b[38;5;66;03m# Convert the MP4 file to an MP3 file\u001b[39;00m\n",
      "\u001b[0;31mNameError\u001b[0m: name 'pytube' is not defined"
     ]
    }
   ],
   "source": [
    "download_youtube_audio('https://www.youtube.com/watch?v=U41bONK2V-U', '/Users/marcowhite/Documents/vortex/source_separation.mp3')"
   ]
  },
  {
   "cell_type": "code",
   "execution_count": null,
   "id": "00474af7",
   "metadata": {},
   "outputs": [],
   "source": [
    "def get_visualization_data(audio_file_path):\n",
    "    # Load audio file\n",
    "    audio_data, sr = librosa.load(audio_file_path, sr=44100, mono=True)\n",
    "\n",
    "    # Submit audio data to Open-Unmix API\n",
    "    payload = {\n",
    "        'file': ('audio.wav', audio_data.tobytes(), 'audio/wav'),\n",
    "        'parameters': ('', '{\"separator\": \"spleeter\"}')\n",
    "    }\n",
    "    response = requests.post('https://www.aicrowd.com/evaluations/generate_mask', files=payload)\n",
    "\n",
    "    # Parse response\n",
    "    mask_data = np.frombuffer(response.content, dtype=np.float32)\n",
    "    mask_data = np.reshape(mask_data, (5, len(audio_data)))\n",
    "\n",
    "    # Construct custom data object\n",
    "    visualization_data = {}\n",
    "    for i, instrument_name in enumerate(['drums', 'bass', 'vocals', 'other', 'piano']):\n",
    "        instrument_mask = mask_data[i]\n",
    "        instrument_audio = audio_data * instrument_mask\n",
    "        instrument_led_colors = []\n",
    "        for j in range(len(instrument_audio)):\n",
    "            if instrument_mask[j] > 0.1:\n",
    "                # Set LED color based on amplitude of instrument audio\n",
    "                led_color = [int(val*255) for val in np.abs(instrument_audio[j]) * 60]\n",
    "                instrument_led_colors.append(led_color)\n",
    "            else:\n",
    "                # Set LED color to off\n",
    "                instrument_led_colors.append([0, 0, 0])\n",
    "        visualization_data[instrument_name] = instrument_led_colors\n",
    "\n",
    "    return visualization_data"
   ]
  },
  {
   "cell_type": "code",
   "execution_count": null,
   "id": "738de731",
   "metadata": {},
   "outputs": [],
   "source": []
  }
 ],
 "metadata": {
  "kernelspec": {
   "display_name": "Python 3 (ipykernel)",
   "language": "python",
   "name": "python3"
  },
  "language_info": {
   "codemirror_mode": {
    "name": "ipython",
    "version": 3
   },
   "file_extension": ".py",
   "mimetype": "text/x-python",
   "name": "python",
   "nbconvert_exporter": "python",
   "pygments_lexer": "ipython3",
   "version": "3.10.9"
  }
 },
 "nbformat": 4,
 "nbformat_minor": 5
}
